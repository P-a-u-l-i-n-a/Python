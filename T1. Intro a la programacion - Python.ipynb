{
 "cells": [
  {
   "cell_type": "markdown",
   "id": "87cae6a6",
   "metadata": {},
   "source": [
    "# TEMA I. INTRODUCCIÓN A LA PROGRAMACIÓN EN PYTHON"
   ]
  },
  {
   "cell_type": "markdown",
   "id": "0b30cb57",
   "metadata": {},
   "source": [
    "<strong>Problema 1.</strong>\n",
    "<br>\n",
    "La frecuencia cardiaca es el número de veces que se contrae el corazón durante un minuto. De acuerdo a la siguiente tabla, estos son los valores para determinar si se esta en un rango normal, bradicardia o taquicardia:\n",
    "<br>\n",
    "<br>\n",
    "<center><strong>Tabla de valores generales de FCR</strong></center>\n",
    "\n",
    "|**FCR estándar**   |  **60-100 lpm**   |\n",
    "|:--------:|:--------:|\n",
    "|  **FCR baja**   |  **<60 lpm**   |\n",
    "|  **FCR alta**   |  **>100 lpm**   | \n"
   ]
  },
  {
   "cell_type": "markdown",
   "id": "d9939b45",
   "metadata": {},
   "source": [
    "**(a)** Crea un array de 100 elementos enteros entre los valores de (40-200). Estos valores representan los valores de la frecuencia cardiaca del Paciente X. (USAR random.randint)"
   ]
  },
  {
   "cell_type": "code",
   "execution_count": null,
   "id": "a7d158a2",
   "metadata": {},
   "outputs": [],
   "source": [
    "import numpy as np #importamos la biblioteca numpy para poder crear arrays y operarlos\n"
   ]
  }
 ],
 "metadata": {
  "kernelspec": {
   "display_name": "Python 3 (ipykernel)",
   "language": "python",
   "name": "python3"
  },
  "language_info": {
   "codemirror_mode": {
    "name": "ipython",
    "version": 3
   },
   "file_extension": ".py",
   "mimetype": "text/x-python",
   "name": "python",
   "nbconvert_exporter": "python",
   "pygments_lexer": "ipython3",
   "version": "3.9.12"
  }
 },
 "nbformat": 4,
 "nbformat_minor": 5
}
