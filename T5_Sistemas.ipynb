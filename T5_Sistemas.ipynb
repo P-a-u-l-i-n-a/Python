{
  "nbformat": 4,
  "nbformat_minor": 0,
  "metadata": {
    "colab": {
      "provenance": [],
      "authorship_tag": "ABX9TyPNvrqjKDAmSnZlAZ6Me/w5",
      "include_colab_link": true
    },
    "kernelspec": {
      "name": "python3",
      "display_name": "Python 3"
    },
    "language_info": {
      "name": "python"
    }
  },
  "cells": [
    {
      "cell_type": "markdown",
      "metadata": {
        "id": "view-in-github",
        "colab_type": "text"
      },
      "source": [
        "<a href=\"https://colab.research.google.com/github/P-a-u-l-i-n-a/Python/blob/main/T5_Sistemas.ipynb\" target=\"_parent\"><img src=\"https://colab.research.google.com/assets/colab-badge.svg\" alt=\"Open In Colab\"/></a>"
      ]
    },
    {
      "cell_type": "markdown",
      "source": [
        "**Nombre:** Paulina Gracida Montes de Oca"
      ],
      "metadata": {
        "id": "_m76EHDT3QIV"
      }
    },
    {
      "cell_type": "markdown",
      "source": [
        "## Biorreactor"
      ],
      "metadata": {
        "id": "XwVbn7JZ191C"
      }
    },
    {
      "cell_type": "markdown",
      "source": [
        "Un biorreactor consiste del siguiente sistema de ecuaciones"
      ],
      "metadata": {
        "id": "kg7vGY8i2QJx"
      }
    },
    {
      "cell_type": "markdown",
      "source": [
        "\\begin{eqnarray}\n",
        "\\frac{dG}{dt} &=&  f_{e} - cBG  - f_{s}G \\\\\n",
        "\\frac{dB}{dt} &=&  aBG - dB - f_{s}B\\\\\n",
        "\\end{eqnarray}"
      ],
      "metadata": {
        "id": "G1lGcsqF2kCc"
      }
    },
    {
      "cell_type": "markdown",
      "source": [
        "Donde $G$ es la glucosa, $B$ son las bacterias, $f_{e}$ es el flujo de entrada, $f_{s}$ es el flujo de salida, $a$, $c$ y $d$ son parámetros positivos"
      ],
      "metadata": {
        "id": "fu9VBayR2mHw"
      }
    },
    {
      "cell_type": "code",
      "source": [
        "#Importamos las bibliotecas que estaremos usando\n",
        "\n",
        "import numpy as np\n",
        "import matplotlib.pylab as plt\n",
        "import sympy as sm"
      ],
      "metadata": {
        "id": "Rpq9acbe3cQi"
      },
      "execution_count": 3,
      "outputs": []
    },
    {
      "cell_type": "code",
      "source": [
        "#Declaramos la función con el método numérico que estaremos usando para resolver el sistema de ecuaciones, en este caso RK4\n",
        "\n",
        "def RK4V(ci,F,p): #recibe parámetros de condiciones iniciales (vector de 2 entradas), función F y diccionario de constantes\n",
        "    t=np.linspace(p[\"ti\"], p[\"tf\"], p[\"h\" ]) #creamos el intervalo en el que se va a resolver el sistema (ti a tf)\n",
        "    A=np.zeros((len(t), len(ci))) #creamos la matriz donde se van a guardar los datos\n",
        "    A[0]=ci #asignamos el primer dato (vector) igual a las condiciones iniciales\n",
        "\n",
        "#calculo de los elementos de RK4\n",
        "    for i in range(1,len(t)):\n",
        "\n",
        "        k1 = F(A[i-1])*p['h']\n",
        "        k2 = F(A[i-1]+k1/2)*p['h']\n",
        "        k3 = F(A[i-1]+k2/2)*p['h']\n",
        "        k4 = F(A[i-1]+k3)*p['h']\n",
        "\n",
        "        A[i] = A[i-1]+(k1+2*k2+2*k3+k4)/6\n",
        "\n",
        "    return A.transpose() #devuelve el vector A que habíamos creado antes pero transpuesto"
      ],
      "metadata": {
        "id": "wNzqi4hg34Hx"
      },
      "execution_count": 7,
      "outputs": []
    },
    {
      "cell_type": "code",
      "source": [
        "#Definimos un diccionario con las variables que se usarán\n",
        "\n",
        "p = {\"f_e\": 5.0, \"c\": 1.0, \"f_s\":0.5, \"a\":3.0, \"d\":1, \"h\": 0.01, \"ti\":0, \"tf\":100}"
      ],
      "metadata": {
        "id": "-rxzgmDN98AL"
      },
      "execution_count": 8,
      "outputs": []
    },
    {
      "cell_type": "code",
      "source": [
        "#Definimos la función que contiene las ecuaciones que modelan el sistema\n",
        "\n",
        "def BioReactor(A):\n",
        "    G,B = A\n",
        "    dG = p[\"f_e\"] - p[\"c\"]*B*G - p[\"f_s\"]*G\n",
        "    dB = p[\"a\"]*B*G - p[\"d\"]*B - p[\"f_s\"]*B\n",
        "    return np.array([dG,dB])"
      ],
      "metadata": {
        "id": "jHxxmje2-My2"
      },
      "execution_count": 9,
      "outputs": []
    },
    {
      "cell_type": "markdown",
      "source": [
        "Ahora vamos a hacer el cálculo de las ceroclinas utilizando **sympy**"
      ],
      "metadata": {
        "id": "OLCFV8HsBDJ_"
      }
    },
    {
      "cell_type": "code",
      "source": [
        "#Primero definimos las ecuaciones en lenguaje simbólico\n",
        "\n",
        "G, B = sm.symbols('G,B', negative=False) #convertimos a G y B a símbolos que son las variables del sistema\n",
        "dG = p[\"f_e\"] - p[\"c\"]*B*G - p[\"f_s\"]*G\n",
        "dB = p[\"a\"]*B*G - p[\"d\"]*B - p[\"f_s\"]*B"
      ],
      "metadata": {
        "id": "5UR5Pt5JA_vq"
      },
      "execution_count": 12,
      "outputs": []
    },
    {
      "cell_type": "code",
      "source": [
        "#Imprimimos para verificar que funcionó bien\n",
        "\n",
        "print(dG)\n",
        "print(dB)"
      ],
      "metadata": {
        "colab": {
          "base_uri": "https://localhost:8080/"
        },
        "id": "2WrXT4Q0C6cZ",
        "outputId": "5330b1f3-f801-44c6-baf8-159e97105a93"
      },
      "execution_count": 13,
      "outputs": [
        {
          "output_type": "stream",
          "name": "stdout",
          "text": [
            "-1.0*B*G - 0.5*G + 5.0\n",
            "3.0*B*G - 1.5*B\n"
          ]
        }
      ]
    }
  ]
}