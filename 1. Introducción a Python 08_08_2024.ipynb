{
  "cells": [
    {
      "cell_type": "markdown",
      "id": "CFilOLEQeigk",
      "metadata": {
        "id": "CFilOLEQeigk"
      },
      "source": [
        "# Practicando vectores y loops en python"
      ]
    },
    {
      "cell_type": "code",
      "execution_count": null,
      "id": "tQFknpCieigp",
      "metadata": {
        "id": "tQFknpCieigp"
      },
      "outputs": [],
      "source": [
        "import numpy as np #con la biblioteca numpy podemos crear arrays y operarlos\n",
        "import matplotlib as plt #con la biblioteca matplotlib podemos hacer gráficas"
      ]
    },
    {
      "cell_type": "code",
      "execution_count": null,
      "id": "vvel5hU2eigr",
      "metadata": {
        "id": "vvel5hU2eigr"
      },
      "outputs": [],
      "source": [
        "a = 'Hola' #Creamos una variable llamada \"a\""
      ]
    },
    {
      "cell_type": "code",
      "execution_count": null,
      "id": "Yj-gX9BVeigs",
      "metadata": {
        "colab": {
          "base_uri": "https://localhost:8080/",
          "height": 35
        },
        "id": "Yj-gX9BVeigs",
        "outputId": "bc82e115-e616-4eed-8c6f-d5df6f5fec05"
      },
      "outputs": [
        {
          "data": {
            "text/plain": [
              "'Hola'"
            ]
          },
          "execution_count": 4,
          "metadata": {},
          "output_type": "execute_result"
        }
      ],
      "source": [
        "a #Mandamos llamar a la variable y la imprime"
      ]
    },
    {
      "cell_type": "code",
      "execution_count": null,
      "id": "vXeqLHUteigt",
      "metadata": {
        "colab": {
          "base_uri": "https://localhost:8080/"
        },
        "id": "vXeqLHUteigt",
        "outputId": "3a2042e0-dd38-44c7-c15d-66720b014bad"
      },
      "outputs": [
        {
          "data": {
            "text/plain": [
              "str"
            ]
          },
          "execution_count": 4,
          "metadata": {},
          "output_type": "execute_result"
        }
      ],
      "source": [
        "type(a) #imprime el tipo de variable que es \"a\", en este caso es un string (cadena)"
      ]
    },
    {
      "cell_type": "markdown",
      "id": "58313985",
      "metadata": {
        "id": "58313985"
      },
      "source": [
        "Recordemos que tenemos diferentes tipos de variables:\n",
        "\n",
        "- **bool:** es una variable de tipo booleana. Solo tiene valores *true* o *false*, será false cuando sea cero o vacío y true en los demás casos\n",
        "- **int:** es una variable de tipo entero, es decir que es un número entero sin decimales\n",
        "- **float:** es una variable de tipo flotante, es decir que puede tomar cualquier número real con decimales\n",
        "- **str:** es una variable de tipo cadena, es como un tipo de lista que guarda diferentes caracteres"
      ]
    },
    {
      "cell_type": "code",
      "execution_count": null,
      "id": "Qdnw45Qmeigt",
      "metadata": {
        "id": "Qdnw45Qmeigt"
      },
      "outputs": [],
      "source": [
        "b = 'mundo' #guardamos el string \"mundo\" en la variable b"
      ]
    },
    {
      "cell_type": "code",
      "execution_count": null,
      "id": "kXCFMD2Seigu",
      "metadata": {
        "id": "kXCFMD2Seigu",
        "outputId": "2e18b6e7-86a8-4193-fa10-505a28ca8585"
      },
      "outputs": [
        {
          "name": "stdout",
          "output_type": "stream",
          "text": [
            "Hola mundo\n"
          ]
        }
      ],
      "source": [
        "print(a+' '+b) #pedimos imprimir las variables y un espacio entre ellas"
      ]
    },
    {
      "cell_type": "code",
      "execution_count": null,
      "id": "xQpZ5QFGeigv",
      "metadata": {
        "id": "xQpZ5QFGeigv",
        "outputId": "1d1fc10d-3b18-4082-af29-6bef5107d12f"
      },
      "outputs": [
        {
          "name": "stdout",
          "output_type": "stream",
          "text": [
            "Hola mundo\n"
          ]
        }
      ],
      "source": [
        "print('Hola mundo') #con print podemos imprimir cadenas o variables\n"
      ]
    },
    {
      "cell_type": "code",
      "execution_count": null,
      "id": "Xf39Y08ueigw",
      "metadata": {
        "colab": {
          "background_save": true
        },
        "id": "Xf39Y08ueigw",
        "outputId": "406e2c70-2e23-4d17-a1d7-8100ed33c4f5"
      },
      "outputs": [
        {
          "data": {
            "text/plain": [
              "'Holamundo'"
            ]
          },
          "execution_count": 10,
          "metadata": {},
          "output_type": "execute_result"
        }
      ],
      "source": [
        "a+b #Sumamos las dos variables que teníamos en un principio, vemos que los strins \"se pegan\" conservando el orden de la suma"
      ]
    },
    {
      "cell_type": "code",
      "execution_count": null,
      "id": "f8d69ded",
      "metadata": {
        "id": "f8d69ded",
        "outputId": "5955d80f-dd44-42b6-c713-4434f22927ff"
      },
      "outputs": [
        {
          "data": {
            "text/plain": [
              "'mundoHola'"
            ]
          },
          "execution_count": 14,
          "metadata": {},
          "output_type": "execute_result"
        }
      ],
      "source": [
        "b+a #En este caso rectificamos que la suma de dos strings no es conmutativa"
      ]
    },
    {
      "cell_type": "code",
      "execution_count": null,
      "id": "CXEBuF67eigw",
      "metadata": {
        "colab": {
          "background_save": true
        },
        "id": "CXEBuF67eigw",
        "outputId": "ab186941-69ff-4f2e-dc63-12511453d9a7"
      },
      "outputs": [
        {
          "data": {
            "text/plain": [
              "'HolaHolaHolaHolaHolamundo'"
            ]
          },
          "execution_count": 15,
          "metadata": {},
          "output_type": "execute_result"
        }
      ],
      "source": [
        "a*5+b"
      ]
    },
    {
      "cell_type": "code",
      "execution_count": null,
      "id": "abVdQbX0eigx",
      "metadata": {
        "colab": {
          "background_save": true
        },
        "id": "abVdQbX0eigx"
      },
      "outputs": [],
      "source": [
        "a= 34 #Redefinimos el valor de la variable \"a\" a un número entero"
      ]
    },
    {
      "cell_type": "code",
      "execution_count": null,
      "id": "IGg9nvt_eigx",
      "metadata": {
        "id": "IGg9nvt_eigx",
        "outputId": "dbee19f6-3108-4730-9ca2-440aa878664e"
      },
      "outputs": [
        {
          "ename": "TypeError",
          "evalue": "unsupported operand type(s) for +: 'int' and 'str'",
          "output_type": "error",
          "traceback": [
            "\u001b[1;31m---------------------------------------------------------------------------\u001b[0m",
            "\u001b[1;31mTypeError\u001b[0m                                 Traceback (most recent call last)",
            "Input \u001b[1;32mIn [19]\u001b[0m, in \u001b[0;36m<cell line: 1>\u001b[1;34m()\u001b[0m\n\u001b[1;32m----> 1\u001b[0m \u001b[43ma\u001b[49m\u001b[38;5;241;43m+\u001b[39;49m\u001b[43mb\u001b[49m\n",
            "\u001b[1;31mTypeError\u001b[0m: unsupported operand type(s) for +: 'int' and 'str'"
          ]
        }
      ],
      "source": [
        "a+b #Se obtiene un error al ejecutar esto ya que no se pueden sumar enteros con string"
      ]
    },
    {
      "cell_type": "code",
      "execution_count": null,
      "id": "0a823cf6",
      "metadata": {
        "id": "0a823cf6",
        "outputId": "e026eded-6714-4441-855e-73c2d2053cb7"
      },
      "outputs": [
        {
          "data": {
            "text/plain": [
              "'34mundo'"
            ]
          },
          "execution_count": 27,
          "metadata": {},
          "output_type": "execute_result"
        }
      ],
      "source": [
        "str(a)+b #De otro modo podemos tomar el valor int de la variable \"a\" como una cadena de números y sumarlos a la variable \"b\"\n",
        "         #Un valor int se puede transformar a cadena pero a una cadena no se le puede asignar un valor entero"
      ]
    },
    {
      "cell_type": "code",
      "execution_count": null,
      "id": "GVhphiYxeigx",
      "metadata": {
        "id": "GVhphiYxeigx"
      },
      "outputs": [],
      "source": [
        "a = 34  #Redefinimos variables\n",
        "b= 2.5"
      ]
    },
    {
      "cell_type": "code",
      "execution_count": null,
      "id": "uOzu6FjEeigy",
      "metadata": {
        "id": "uOzu6FjEeigy",
        "outputId": "825c1ca6-9afb-4707-caea-fa4f68d1953d"
      },
      "outputs": [
        {
          "data": {
            "text/plain": [
              "172.5"
            ]
          },
          "execution_count": 31,
          "metadata": {},
          "output_type": "execute_result"
        }
      ],
      "source": [
        "a*5+b #Hacemos una operación matemática, vemos que se sigue el orden matemático de las operaciones (primero multiplica y luego suma)"
      ]
    },
    {
      "cell_type": "code",
      "execution_count": null,
      "id": "3Py3WM3Leigy",
      "metadata": {
        "id": "3Py3WM3Leigy"
      },
      "outputs": [],
      "source": [
        "x= 2 #Creamos una nueva variable llamada \"x\" de tipo entero"
      ]
    },
    {
      "cell_type": "code",
      "execution_count": null,
      "id": "HePx8aaZeigy",
      "metadata": {
        "id": "HePx8aaZeigy",
        "outputId": "0b4a9df5-338d-48ab-ec5c-c6fc1160658a"
      },
      "outputs": [
        {
          "data": {
            "text/plain": [
              "36"
            ]
          },
          "execution_count": 34,
          "metadata": {},
          "output_type": "execute_result"
        }
      ],
      "source": [
        "a+x #Operación matemática"
      ]
    },
    {
      "cell_type": "markdown",
      "id": "d81bed18",
      "metadata": {
        "id": "d81bed18"
      },
      "source": [
        "# Vectores, arreglos"
      ]
    },
    {
      "cell_type": "code",
      "execution_count": null,
      "id": "IKNceFJpeigz",
      "metadata": {
        "id": "IKNceFJpeigz"
      },
      "outputs": [],
      "source": [
        "b = [] #Esto es una lista"
      ]
    },
    {
      "cell_type": "code",
      "execution_count": null,
      "id": "xasrutHheigz",
      "metadata": {
        "id": "xasrutHheigz"
      },
      "outputs": [],
      "source": [
        "c = [2,5,'hola',True]\n"
      ]
    },
    {
      "cell_type": "code",
      "execution_count": null,
      "id": "N8mNgktteigz",
      "metadata": {
        "id": "N8mNgktteigz"
      },
      "outputs": [],
      "source": [
        "a"
      ]
    },
    {
      "cell_type": "code",
      "execution_count": null,
      "id": "rbZP1tvbeigz",
      "metadata": {
        "id": "rbZP1tvbeigz"
      },
      "outputs": [],
      "source": [
        "b"
      ]
    },
    {
      "cell_type": "code",
      "execution_count": null,
      "id": "09xdzYlheigz",
      "metadata": {
        "id": "09xdzYlheigz"
      },
      "outputs": [],
      "source": [
        "c"
      ]
    },
    {
      "cell_type": "code",
      "execution_count": null,
      "id": "GnBFHNHJeig0",
      "metadata": {
        "id": "GnBFHNHJeig0"
      },
      "outputs": [],
      "source": [
        "type(a)"
      ]
    },
    {
      "cell_type": "code",
      "execution_count": null,
      "id": "izUWfI59eig0",
      "metadata": {
        "id": "izUWfI59eig0"
      },
      "outputs": [],
      "source": [
        "type(b)"
      ]
    },
    {
      "cell_type": "code",
      "execution_count": null,
      "id": "SBFOUuQEeig0",
      "metadata": {
        "id": "SBFOUuQEeig0"
      },
      "outputs": [],
      "source": [
        "type(c)"
      ]
    },
    {
      "cell_type": "code",
      "execution_count": null,
      "id": "t4EKPDsgeig0",
      "metadata": {
        "id": "t4EKPDsgeig0"
      },
      "outputs": [],
      "source": [
        "len(b)"
      ]
    },
    {
      "cell_type": "code",
      "execution_count": null,
      "id": "FeIRHLzHeig0",
      "metadata": {
        "id": "FeIRHLzHeig0"
      },
      "outputs": [],
      "source": [
        "len(c)"
      ]
    },
    {
      "cell_type": "code",
      "execution_count": null,
      "id": "Ud1_dYyeeig1",
      "metadata": {
        "id": "Ud1_dYyeeig1"
      },
      "outputs": [],
      "source": [
        "d = [2,5,7,3]"
      ]
    },
    {
      "cell_type": "code",
      "execution_count": null,
      "id": "oWWDflfkeig1",
      "metadata": {
        "id": "oWWDflfkeig1"
      },
      "outputs": [],
      "source": [
        "d"
      ]
    },
    {
      "cell_type": "code",
      "execution_count": null,
      "id": "dzlW0CUAeig1",
      "metadata": {
        "id": "dzlW0CUAeig1"
      },
      "outputs": [],
      "source": [
        "type(d)"
      ]
    },
    {
      "cell_type": "code",
      "execution_count": null,
      "id": "pHE_Gqc0eig1",
      "metadata": {
        "id": "pHE_Gqc0eig1"
      },
      "outputs": [],
      "source": [
        "c+d"
      ]
    },
    {
      "cell_type": "code",
      "execution_count": null,
      "id": "cAb2WJP8eig1",
      "metadata": {
        "id": "cAb2WJP8eig1"
      },
      "outputs": [],
      "source": [
        "f = np.array([2,5,7,3])"
      ]
    },
    {
      "cell_type": "code",
      "execution_count": null,
      "id": "T7fnxwUheig2",
      "metadata": {
        "id": "T7fnxwUheig2"
      },
      "outputs": [],
      "source": [
        "f"
      ]
    },
    {
      "cell_type": "code",
      "execution_count": null,
      "id": "-rFyWGKDeig2",
      "metadata": {
        "id": "-rFyWGKDeig2"
      },
      "outputs": [],
      "source": [
        "g = np.array([4,8,9,0])"
      ]
    },
    {
      "cell_type": "code",
      "execution_count": null,
      "id": "XmoxPa3Yeig2",
      "metadata": {
        "id": "XmoxPa3Yeig2"
      },
      "outputs": [],
      "source": [
        "v = f+g"
      ]
    },
    {
      "cell_type": "code",
      "execution_count": null,
      "id": "gFDPdhAxeig2",
      "metadata": {
        "id": "gFDPdhAxeig2"
      },
      "outputs": [],
      "source": [
        "v"
      ]
    },
    {
      "cell_type": "code",
      "execution_count": null,
      "id": "_GHp2gsueig3",
      "metadata": {
        "id": "_GHp2gsueig3"
      },
      "outputs": [],
      "source": [
        "v[2]"
      ]
    },
    {
      "cell_type": "code",
      "execution_count": null,
      "id": "2X-kn5upeig3",
      "metadata": {
        "id": "2X-kn5upeig3"
      },
      "outputs": [],
      "source": [
        "v[-2]"
      ]
    },
    {
      "cell_type": "code",
      "execution_count": null,
      "id": "5obDuW4meig3",
      "metadata": {
        "id": "5obDuW4meig3"
      },
      "outputs": [],
      "source": [
        "v[0:3]"
      ]
    },
    {
      "cell_type": "code",
      "execution_count": null,
      "id": "vEFtzWiNeig9",
      "metadata": {
        "id": "vEFtzWiNeig9"
      },
      "outputs": [],
      "source": [
        "v[0:-1]"
      ]
    },
    {
      "cell_type": "code",
      "execution_count": null,
      "id": "8K04Cbj0eig-",
      "metadata": {
        "id": "8K04Cbj0eig-"
      },
      "outputs": [],
      "source": [
        "w = np.array([1,2,3,4,5,6,7,8,0,64,4,6,4,43,6])"
      ]
    },
    {
      "cell_type": "code",
      "execution_count": null,
      "id": "MF0jle5seig-",
      "metadata": {
        "id": "MF0jle5seig-"
      },
      "outputs": [],
      "source": [
        "len(w)"
      ]
    },
    {
      "cell_type": "code",
      "execution_count": null,
      "id": "qAXR9wsSeig-",
      "metadata": {
        "id": "qAXR9wsSeig-"
      },
      "outputs": [],
      "source": [
        "w[5]\n"
      ]
    },
    {
      "cell_type": "code",
      "execution_count": null,
      "id": "IBJEyDAMeig-",
      "metadata": {
        "id": "IBJEyDAMeig-"
      },
      "outputs": [],
      "source": [
        "w[-1]"
      ]
    },
    {
      "cell_type": "code",
      "execution_count": null,
      "id": "TIBIcvPqeig_",
      "metadata": {
        "id": "TIBIcvPqeig_"
      },
      "outputs": [],
      "source": [
        "w[6:11]"
      ]
    },
    {
      "cell_type": "code",
      "execution_count": null,
      "id": "NhtY_QAkeig_",
      "metadata": {
        "id": "NhtY_QAkeig_"
      },
      "outputs": [],
      "source": [
        "w[6:-4]"
      ]
    },
    {
      "cell_type": "markdown",
      "id": "vNWJNk3seig_",
      "metadata": {
        "id": "vNWJNk3seig_"
      },
      "source": [
        "# Crear un array cuyas entradas sean los valores de w sumandole 5"
      ]
    },
    {
      "cell_type": "code",
      "execution_count": null,
      "id": "Xhtgvvpjeig_",
      "metadata": {
        "id": "Xhtgvvpjeig_"
      },
      "outputs": [],
      "source": [
        "len(w)"
      ]
    },
    {
      "cell_type": "code",
      "execution_count": null,
      "id": "liE2CBe0eihA",
      "metadata": {
        "id": "liE2CBe0eihA"
      },
      "outputs": [],
      "source": [
        "y = np.array([5,5,5,5,5,5,5,5,5,5,5,5,5,5,5])"
      ]
    },
    {
      "cell_type": "code",
      "execution_count": null,
      "id": "mY-Mc0UfeihA",
      "metadata": {
        "id": "mY-Mc0UfeihA"
      },
      "outputs": [],
      "source": [
        "len(y)"
      ]
    },
    {
      "cell_type": "code",
      "execution_count": null,
      "id": "j9rIZIKHeihA",
      "metadata": {
        "id": "j9rIZIKHeihA"
      },
      "outputs": [],
      "source": [
        "w+y"
      ]
    },
    {
      "cell_type": "code",
      "execution_count": null,
      "id": "CEdCI9ydeihA",
      "metadata": {
        "id": "CEdCI9ydeihA"
      },
      "outputs": [],
      "source": []
    },
    {
      "cell_type": "code",
      "execution_count": null,
      "id": "fXgEQD0UeihA",
      "metadata": {
        "id": "fXgEQD0UeihA"
      },
      "outputs": [],
      "source": [
        "range(len(w))"
      ]
    },
    {
      "cell_type": "code",
      "execution_count": null,
      "id": "L3snEvCxeihB",
      "metadata": {
        "id": "L3snEvCxeihB"
      },
      "outputs": [],
      "source": [
        "z = []\n",
        "for i in range(len(w)):\n",
        "    Mascinco = w[i]+5\n",
        "    z.append(Mascinco)\n"
      ]
    },
    {
      "cell_type": "code",
      "execution_count": null,
      "id": "z1NTF1HseihB",
      "metadata": {
        "id": "z1NTF1HseihB"
      },
      "outputs": [],
      "source": [
        "z"
      ]
    },
    {
      "cell_type": "code",
      "execution_count": null,
      "id": "YylkWcdieihB",
      "metadata": {
        "id": "YylkWcdieihB"
      },
      "outputs": [],
      "source": [
        "zz = np.array(z)"
      ]
    },
    {
      "cell_type": "code",
      "execution_count": null,
      "id": "5Sz2bRTneihC",
      "metadata": {
        "id": "5Sz2bRTneihC"
      },
      "outputs": [],
      "source": [
        "zz"
      ]
    },
    {
      "cell_type": "code",
      "execution_count": null,
      "id": "rpuPOn75eihC",
      "metadata": {
        "id": "rpuPOn75eihC"
      },
      "outputs": [],
      "source": [
        "a"
      ]
    },
    {
      "cell_type": "code",
      "execution_count": null,
      "id": "nlYQKi-yeihD",
      "metadata": {
        "id": "nlYQKi-yeihD"
      },
      "outputs": [],
      "source": [
        "a = float(a)"
      ]
    },
    {
      "cell_type": "code",
      "execution_count": null,
      "id": "NT_gJFhReihD",
      "metadata": {
        "id": "NT_gJFhReihD"
      },
      "outputs": [],
      "source": [
        "a"
      ]
    },
    {
      "cell_type": "code",
      "execution_count": null,
      "id": "yNyUsX9ueihD",
      "metadata": {
        "id": "yNyUsX9ueihD"
      },
      "outputs": [],
      "source": [
        "zz = list(zz)"
      ]
    },
    {
      "cell_type": "code",
      "execution_count": null,
      "id": "aZ7gHYeweihD",
      "metadata": {
        "id": "aZ7gHYeweihD"
      },
      "outputs": [],
      "source": [
        "zz"
      ]
    },
    {
      "cell_type": "code",
      "execution_count": null,
      "id": "vOgTJnpVeihD",
      "metadata": {
        "id": "vOgTJnpVeihD"
      },
      "outputs": [],
      "source": [
        "w"
      ]
    },
    {
      "cell_type": "code",
      "execution_count": null,
      "id": "myfdk-XEeihD",
      "metadata": {
        "id": "myfdk-XEeihD"
      },
      "outputs": [],
      "source": [
        "ww = np.array(w)"
      ]
    },
    {
      "cell_type": "code",
      "execution_count": null,
      "id": "5tBaSOmleihE",
      "metadata": {
        "id": "5tBaSOmleihE"
      },
      "outputs": [],
      "source": [
        "ww"
      ]
    },
    {
      "cell_type": "code",
      "execution_count": null,
      "id": "TXqxbsAMeihE",
      "metadata": {
        "id": "TXqxbsAMeihE"
      },
      "outputs": [],
      "source": [
        "ww+5"
      ]
    },
    {
      "cell_type": "markdown",
      "id": "iVp4C061eihE",
      "metadata": {
        "id": "iVp4C061eihE"
      },
      "source": [
        "## Numeros pares entre 0 y 100"
      ]
    },
    {
      "cell_type": "code",
      "execution_count": null,
      "id": "c9AqRG97eihE",
      "metadata": {
        "id": "c9AqRG97eihE"
      },
      "outputs": [],
      "source": [
        "for i in range(0,50):\n",
        "    i = i*2 + 1\n",
        "    print(i)"
      ]
    },
    {
      "cell_type": "code",
      "execution_count": null,
      "id": "fH-lkQ0seihF",
      "metadata": {
        "id": "fH-lkQ0seihF"
      },
      "outputs": [],
      "source": [
        "pp = []\n",
        "\n",
        "for i in range(0,50):\n",
        "    i = i*2 + 1\n",
        "    pp.append(i)"
      ]
    },
    {
      "cell_type": "code",
      "execution_count": null,
      "id": "Re7CHT7weihF",
      "metadata": {
        "id": "Re7CHT7weihF"
      },
      "outputs": [],
      "source": [
        "pp = np.array(pp)\n",
        "pp"
      ]
    },
    {
      "cell_type": "code",
      "execution_count": null,
      "id": "8aeK24ryeihF",
      "metadata": {
        "id": "8aeK24ryeihF"
      },
      "outputs": [],
      "source": [
        "133%133"
      ]
    },
    {
      "cell_type": "code",
      "execution_count": null,
      "id": "OIIY9-R-eihF",
      "metadata": {
        "id": "OIIY9-R-eihF"
      },
      "outputs": [],
      "source": [
        "2%2"
      ]
    },
    {
      "cell_type": "code",
      "execution_count": null,
      "id": "ndvqt7fIeihF",
      "metadata": {
        "id": "ndvqt7fIeihF"
      },
      "outputs": [],
      "source": [
        "#Primeros cien pares.\n",
        "contador = 1\n",
        "\n",
        "while contador<=100:          #While se caracteriza de hacer un ciclo mientras sea verdadero el condicional\n",
        "\n",
        "    if contador%2==0:\n",
        "        print(contador)\n",
        "\n",
        "    contador = contador+1\n"
      ]
    },
    {
      "cell_type": "code",
      "execution_count": null,
      "id": "Ue_dLJD3eihG",
      "metadata": {
        "id": "Ue_dLJD3eihG"
      },
      "outputs": [],
      "source": [
        "listasol = []\n",
        "\n",
        "\n",
        "for i in range(0,51):\n",
        "\n",
        "    listasol.append(2*i)\n",
        "\n",
        "print(listasol)"
      ]
    },
    {
      "cell_type": "markdown",
      "id": "llUPzKkPeihG",
      "metadata": {
        "id": "llUPzKkPeihG"
      },
      "source": [
        "## Suma de los primeros n enteros"
      ]
    },
    {
      "cell_type": "code",
      "execution_count": null,
      "id": "9wQx4_THeihG",
      "metadata": {
        "id": "9wQx4_THeihG"
      },
      "outputs": [],
      "source": [
        "n= 20\n"
      ]
    },
    {
      "cell_type": "code",
      "execution_count": null,
      "id": "S2QZU7_geihG",
      "metadata": {
        "colab": {
          "background_save": true
        },
        "id": "S2QZU7_geihG",
        "outputId": "7f2fb26a-8a54-460a-b06d-359285db6c9f"
      },
      "outputs": [
        {
          "ename": "NameError",
          "evalue": "name 'n' is not defined",
          "output_type": "error",
          "traceback": [
            "\u001b[0;31m---------------------------------------------------------------------------\u001b[0m",
            "\u001b[0;31mNameError\u001b[0m                                 Traceback (most recent call last)",
            "\u001b[0;32m<ipython-input-79-eb6d7c758743>\u001b[0m in \u001b[0;36m<cell line: 4>\u001b[0;34m()\u001b[0m\n\u001b[1;32m      2\u001b[0m \u001b[0mi\u001b[0m \u001b[0;34m=\u001b[0m \u001b[0;36m1\u001b[0m\u001b[0;34m\u001b[0m\u001b[0;34m\u001b[0m\u001b[0m\n\u001b[1;32m      3\u001b[0m \u001b[0;34m\u001b[0m\u001b[0m\n\u001b[0;32m----> 4\u001b[0;31m \u001b[0;32mwhile\u001b[0m \u001b[0mi\u001b[0m \u001b[0;34m<=\u001b[0m\u001b[0mn\u001b[0m\u001b[0;34m:\u001b[0m\u001b[0;34m\u001b[0m\u001b[0;34m\u001b[0m\u001b[0m\n\u001b[0m\u001b[1;32m      5\u001b[0m     \u001b[0msuma\u001b[0m \u001b[0;34m=\u001b[0m \u001b[0msuma\u001b[0m \u001b[0;34m+\u001b[0m \u001b[0mi\u001b[0m\u001b[0;34m\u001b[0m\u001b[0;34m\u001b[0m\u001b[0m\n\u001b[1;32m      6\u001b[0m     \u001b[0mi\u001b[0m \u001b[0;34m=\u001b[0m \u001b[0mi\u001b[0m \u001b[0;34m+\u001b[0m \u001b[0;36m1\u001b[0m\u001b[0;34m\u001b[0m\u001b[0;34m\u001b[0m\u001b[0m\n",
            "\u001b[0;31mNameError\u001b[0m: name 'n' is not defined"
          ]
        }
      ],
      "source": [
        "suma = 0\n",
        "i = 1\n",
        "\n",
        "while i <=n:\n",
        "    suma = suma + i\n",
        "    i = i + 1\n",
        "    print(suma)"
      ]
    },
    {
      "cell_type": "code",
      "execution_count": null,
      "id": "z_SSFhCReihH",
      "metadata": {
        "id": "z_SSFhCReihH"
      },
      "outputs": [],
      "source": []
    },
    {
      "cell_type": "code",
      "execution_count": null,
      "id": "r1lzZ7kVeihH",
      "metadata": {
        "id": "r1lzZ7kVeihH"
      },
      "outputs": [],
      "source": []
    },
    {
      "cell_type": "code",
      "execution_count": null,
      "id": "SqL3F_XBeihH",
      "metadata": {
        "id": "SqL3F_XBeihH"
      },
      "outputs": [],
      "source": [
        "n = 20\n",
        "suma = 0\n",
        "for i in range(1,n+1):\n",
        "\n",
        "    suma = suma+i\n",
        "\n",
        "print(suma)\n"
      ]
    },
    {
      "cell_type": "code",
      "execution_count": null,
      "id": "BgmDJ_E_eihH",
      "metadata": {
        "id": "BgmDJ_E_eihH"
      },
      "outputs": [],
      "source": [
        "n=20\n",
        "n*(n+1)/2"
      ]
    },
    {
      "cell_type": "code",
      "execution_count": null,
      "id": "cCoUgYJXeihH",
      "metadata": {
        "id": "cCoUgYJXeihH"
      },
      "outputs": [],
      "source": [
        "#Esto es una función\n",
        "def sumaEuler(n):\n",
        "    suma = 0\n",
        "    for i in range(1,n+1):\n",
        "        suma = suma+i\n",
        "\n",
        "    return suma"
      ]
    },
    {
      "cell_type": "code",
      "execution_count": null,
      "id": "7gzof0_8eihH",
      "metadata": {
        "id": "7gzof0_8eihH"
      },
      "outputs": [],
      "source": [
        "sumaEuler(20)"
      ]
    },
    {
      "cell_type": "code",
      "execution_count": null,
      "id": "SM0202pueihH",
      "metadata": {
        "id": "SM0202pueihH"
      },
      "outputs": [],
      "source": [
        "#No hacer cosas raras\n",
        "m = -2\n",
        "y = sumaEuler(m)\n",
        "y"
      ]
    },
    {
      "cell_type": "markdown",
      "id": "P470LETUeihI",
      "metadata": {
        "id": "P470LETUeihI"
      },
      "source": [
        "## Usando While realiza una multiplicación, por ejemplo 5*7 pero usando sumas sucesivas"
      ]
    },
    {
      "cell_type": "code",
      "execution_count": null,
      "id": "wGLHrkrceihI",
      "metadata": {
        "id": "wGLHrkrceihI"
      },
      "outputs": [],
      "source": [
        "5*7"
      ]
    },
    {
      "cell_type": "code",
      "execution_count": null,
      "id": "TCi9nY4jeihI",
      "metadata": {
        "id": "TCi9nY4jeihI"
      },
      "outputs": [],
      "source": [
        "a=5\n",
        "b=7\n",
        "suma= 0"
      ]
    },
    {
      "cell_type": "code",
      "execution_count": null,
      "id": "bZswzqIGeihI",
      "metadata": {
        "id": "bZswzqIGeihI"
      },
      "outputs": [],
      "source": [
        "while b!=0:\n",
        "    suma = suma+a\n",
        "    b = b-1\n",
        "    print(suma)\n"
      ]
    },
    {
      "cell_type": "code",
      "execution_count": null,
      "id": "XWVvue-deihJ",
      "metadata": {
        "id": "XWVvue-deihJ"
      },
      "outputs": [],
      "source": [
        "a=5\n",
        "b=7\n",
        "suma= 0"
      ]
    },
    {
      "cell_type": "code",
      "execution_count": null,
      "id": "HC-LzUM5eihJ",
      "metadata": {
        "id": "HC-LzUM5eihJ"
      },
      "outputs": [],
      "source": [
        "while a!=0:\n",
        "    suma = suma+b\n",
        "    a = a-1\n",
        "    print(suma)\n"
      ]
    },
    {
      "cell_type": "code",
      "execution_count": null,
      "id": "iDWkfdKXeihJ",
      "metadata": {
        "id": "iDWkfdKXeihJ",
        "scrolled": true
      },
      "outputs": [],
      "source": [
        "M = np.zeros(5)\n",
        "M1 = np.zeros((3,3))\n",
        "\n",
        "M1"
      ]
    },
    {
      "cell_type": "code",
      "execution_count": null,
      "id": "wTYQwjTCeihJ",
      "metadata": {
        "id": "wTYQwjTCeihJ"
      },
      "outputs": [],
      "source": [
        "variable = 1\n",
        "\n",
        "for i in range(3):\n",
        "    for j in range(3):\n",
        "\n",
        "        M1[i,j] = variable\n",
        "        variable = variable + 1\n",
        "\n",
        "M1"
      ]
    },
    {
      "cell_type": "code",
      "execution_count": null,
      "id": "tsiUk2ygeihJ",
      "metadata": {
        "id": "tsiUk2ygeihJ"
      },
      "outputs": [],
      "source": [
        "M1"
      ]
    },
    {
      "cell_type": "code",
      "execution_count": null,
      "id": "YM2c2Q9geihK",
      "metadata": {
        "id": "YM2c2Q9geihK"
      },
      "outputs": [],
      "source": [
        "M1[0,0]+M1[1,1]+M1[2,2]"
      ]
    },
    {
      "cell_type": "code",
      "execution_count": null,
      "id": "ec1gNsIxeihK",
      "metadata": {
        "id": "ec1gNsIxeihK"
      },
      "outputs": [],
      "source": [
        "renglon = len(M1[0,:])\n",
        "columna = len(M1[:,0])"
      ]
    },
    {
      "cell_type": "code",
      "execution_count": null,
      "id": "nVbXb2meeihK",
      "metadata": {
        "id": "nVbXb2meeihK"
      },
      "outputs": [],
      "source": [
        "renglon == columna"
      ]
    },
    {
      "cell_type": "markdown",
      "id": "oXRb_vYReihK",
      "metadata": {
        "id": "oXRb_vYReihK"
      },
      "source": [
        "### Diseña un programa en donde una función reciba una matriz y devuelva la traza"
      ]
    },
    {
      "cell_type": "code",
      "execution_count": null,
      "id": "IY1ZbkISeihL",
      "metadata": {
        "id": "IY1ZbkISeihL"
      },
      "outputs": [],
      "source": [
        "def Traza(A):\n",
        "    #Debemos verificar que la matriz A sea una matriz cuadrada\n",
        "\n",
        "    #Verificar si la longitud de las columnas y renglones son iguales\n",
        "    a1 = len(A[0,:])\n",
        "    a2 = len(A[:,0])\n",
        "\n",
        "    traza1 = 0\n",
        "\n",
        "    if a1 == a2:\n",
        "        #traza1 = 0\n",
        "        for i in range(a1):\n",
        "            traza1 = traza1 + A[i,i]\n",
        "    else:\n",
        "        print(\"Oye, esto no es una matriz cuadrada\")\n",
        "\n",
        "    return traza1"
      ]
    },
    {
      "cell_type": "code",
      "execution_count": null,
      "id": "PrmbXkkxeihL",
      "metadata": {
        "id": "PrmbXkkxeihL"
      },
      "outputs": [],
      "source": [
        "M2 = np.zeros((2,3))\n",
        "M2"
      ]
    },
    {
      "cell_type": "code",
      "execution_count": null,
      "id": "7SkEjQj8eihL",
      "metadata": {
        "id": "7SkEjQj8eihL"
      },
      "outputs": [],
      "source": [
        "Traza(M2)"
      ]
    }
  ],
  "metadata": {
    "colab": {
      "provenance": []
    },
    "kernelspec": {
      "display_name": "Python 3 (ipykernel)",
      "language": "python",
      "name": "python3"
    },
    "language_info": {
      "codemirror_mode": {
        "name": "ipython",
        "version": 3
      },
      "file_extension": ".py",
      "mimetype": "text/x-python",
      "name": "python",
      "nbconvert_exporter": "python",
      "pygments_lexer": "ipython3",
      "version": "3.9.12"
    }
  },
  "nbformat": 4,
  "nbformat_minor": 5
}